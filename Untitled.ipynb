{
 "cells": [
  {
   "cell_type": "code",
   "execution_count": 1,
   "id": "01a29803",
   "metadata": {},
   "outputs": [
    {
     "data": {
      "text/html": [
       "<div>\n",
       "<style scoped>\n",
       "    .dataframe tbody tr th:only-of-type {\n",
       "        vertical-align: middle;\n",
       "    }\n",
       "\n",
       "    .dataframe tbody tr th {\n",
       "        vertical-align: top;\n",
       "    }\n",
       "\n",
       "    .dataframe thead th {\n",
       "        text-align: right;\n",
       "    }\n",
       "</style>\n",
       "<table border=\"1\" class=\"dataframe\">\n",
       "  <thead>\n",
       "    <tr style=\"text-align: right;\">\n",
       "      <th></th>\n",
       "      <th>排名積分</th>\n",
       "      <th>movie</th>\n",
       "    </tr>\n",
       "  </thead>\n",
       "  <tbody>\n",
       "    <tr>\n",
       "      <th>0</th>\n",
       "      <td>1</td>\n",
       "      <td>魔法滿屋</td>\n",
       "    </tr>\n",
       "    <tr>\n",
       "      <th>1</th>\n",
       "      <td>2</td>\n",
       "      <td>青春養成記</td>\n",
       "    </tr>\n",
       "    <tr>\n",
       "      <th>2</th>\n",
       "      <td>3</td>\n",
       "      <td>海洋奇緣</td>\n",
       "    </tr>\n",
       "    <tr>\n",
       "      <th>3</th>\n",
       "      <td>4</td>\n",
       "      <td>復仇者聯盟：終局之戰</td>\n",
       "    </tr>\n",
       "    <tr>\n",
       "      <th>4</th>\n",
       "      <td>5</td>\n",
       "      <td>永恆族</td>\n",
       "    </tr>\n",
       "    <tr>\n",
       "      <th>5</th>\n",
       "      <td>6</td>\n",
       "      <td>尚氣與十環傳奇</td>\n",
       "    </tr>\n",
       "    <tr>\n",
       "      <th>6</th>\n",
       "      <td>7</td>\n",
       "      <td>冰原歷險記：巴克大冒險</td>\n",
       "    </tr>\n",
       "    <tr>\n",
       "      <th>7</th>\n",
       "      <td>8</td>\n",
       "      <td>奇異博士</td>\n",
       "    </tr>\n",
       "    <tr>\n",
       "      <th>8</th>\n",
       "      <td>9</td>\n",
       "      <td>尋龍使者：拉雅</td>\n",
       "    </tr>\n",
       "    <tr>\n",
       "      <th>9</th>\n",
       "      <td>10</td>\n",
       "      <td>復仇者聯盟：無限之戰</td>\n",
       "    </tr>\n",
       "  </tbody>\n",
       "</table>\n",
       "</div>"
      ],
      "text/plain": [
       "   排名積分        movie\n",
       "0     1         魔法滿屋\n",
       "1     2        青春養成記\n",
       "2     3         海洋奇緣\n",
       "3     4   復仇者聯盟：終局之戰\n",
       "4     5          永恆族\n",
       "5     6      尚氣與十環傳奇\n",
       "6     7  冰原歷險記：巴克大冒險\n",
       "7     8         奇異博士\n",
       "8     9      尋龍使者：拉雅\n",
       "9    10   復仇者聯盟：無限之戰"
      ]
     },
     "execution_count": 1,
     "metadata": {},
     "output_type": "execute_result"
    }
   ],
   "source": [
    "#匯入csv檔案\n",
    "#Disney+ 2022上半年電影 全球排名積分\n",
    "import pandas as pd\n",
    "\n",
    "data1 = pd.read_csv(\"data1.csv\",encoding=\"Big5\")\n",
    "data1"
   ]
  },
  {
   "cell_type": "code",
   "execution_count": 2,
   "id": "4a74e4a8",
   "metadata": {},
   "outputs": [
    {
     "data": {
      "text/html": [
       "<div>\n",
       "<style scoped>\n",
       "    .dataframe tbody tr th:only-of-type {\n",
       "        vertical-align: middle;\n",
       "    }\n",
       "\n",
       "    .dataframe tbody tr th {\n",
       "        vertical-align: top;\n",
       "    }\n",
       "\n",
       "    .dataframe thead th {\n",
       "        text-align: right;\n",
       "    }\n",
       "</style>\n",
       "<table border=\"1\" class=\"dataframe\">\n",
       "  <thead>\n",
       "    <tr style=\"text-align: right;\">\n",
       "      <th></th>\n",
       "      <th>排名積分</th>\n",
       "      <th>movie</th>\n",
       "    </tr>\n",
       "  </thead>\n",
       "  <tbody>\n",
       "    <tr>\n",
       "      <th>0</th>\n",
       "      <td>1</td>\n",
       "      <td>永恆族</td>\n",
       "    </tr>\n",
       "    <tr>\n",
       "      <th>1</th>\n",
       "      <td>2</td>\n",
       "      <td>魔法滿屋</td>\n",
       "    </tr>\n",
       "    <tr>\n",
       "      <th>2</th>\n",
       "      <td>3</td>\n",
       "      <td>青春養成記</td>\n",
       "    </tr>\n",
       "    <tr>\n",
       "      <th>3</th>\n",
       "      <td>4</td>\n",
       "      <td>月老</td>\n",
       "    </tr>\n",
       "    <tr>\n",
       "      <th>4</th>\n",
       "      <td>5</td>\n",
       "      <td>復仇者聯盟：終局之戰</td>\n",
       "    </tr>\n",
       "    <tr>\n",
       "      <th>5</th>\n",
       "      <td>6</td>\n",
       "      <td>尚氣與十環傳奇</td>\n",
       "    </tr>\n",
       "    <tr>\n",
       "      <th>6</th>\n",
       "      <td>7</td>\n",
       "      <td>金牌特務：金士曼起源</td>\n",
       "    </tr>\n",
       "    <tr>\n",
       "      <th>7</th>\n",
       "      <td>8</td>\n",
       "      <td>奇異博士</td>\n",
       "    </tr>\n",
       "    <tr>\n",
       "      <th>8</th>\n",
       "      <td>9</td>\n",
       "      <td>尼羅河謀殺案</td>\n",
       "    </tr>\n",
       "    <tr>\n",
       "      <th>9</th>\n",
       "      <td>10</td>\n",
       "      <td>黑寡婦</td>\n",
       "    </tr>\n",
       "  </tbody>\n",
       "</table>\n",
       "</div>"
      ],
      "text/plain": [
       "   排名積分       movie\n",
       "0     1         永恆族\n",
       "1     2        魔法滿屋\n",
       "2     3       青春養成記\n",
       "3     4          月老\n",
       "4     5  復仇者聯盟：終局之戰\n",
       "5     6     尚氣與十環傳奇\n",
       "6     7  金牌特務：金士曼起源\n",
       "7     8        奇異博士\n",
       "8     9      尼羅河謀殺案\n",
       "9    10         黑寡婦"
      ]
     },
     "execution_count": 2,
     "metadata": {},
     "output_type": "execute_result"
    }
   ],
   "source": [
    "#Disney+ 2022上半年電影 台灣排名積分\n",
    "data2 = pd.read_csv(\"data2.csv\",encoding=\"Big5\")\n",
    "data2"
   ]
  },
  {
   "cell_type": "code",
   "execution_count": 3,
   "id": "eb449e57",
   "metadata": {},
   "outputs": [
    {
     "data": {
      "text/plain": [
       "{'冰原歷險記：巴克大冒險',\n",
       " '奇異博士',\n",
       " '尋龍使者：拉雅',\n",
       " '尚氣與十環傳奇',\n",
       " '復仇者聯盟：無限之戰',\n",
       " '復仇者聯盟：終局之戰',\n",
       " '永恆族',\n",
       " '海洋奇緣',\n",
       " '青春養成記',\n",
       " '魔法滿屋'}"
      ]
     },
     "execution_count": 3,
     "metadata": {},
     "output_type": "execute_result"
    }
   ],
   "source": [
    "#列出子集合\n",
    "set_data1 = set(data1[\"movie\"])\n",
    "set_data1"
   ]
  },
  {
   "cell_type": "code",
   "execution_count": 4,
   "id": "122c63e4",
   "metadata": {},
   "outputs": [
    {
     "data": {
      "text/plain": [
       "{'奇異博士',\n",
       " '尚氣與十環傳奇',\n",
       " '尼羅河謀殺案',\n",
       " '復仇者聯盟：終局之戰',\n",
       " '月老',\n",
       " '永恆族',\n",
       " '金牌特務：金士曼起源',\n",
       " '青春養成記',\n",
       " '魔法滿屋',\n",
       " '黑寡婦'}"
      ]
     },
     "execution_count": 4,
     "metadata": {},
     "output_type": "execute_result"
    }
   ],
   "source": [
    "set_data2 = set(data2[\"movie\"])\n",
    "set_data2"
   ]
  },
  {
   "cell_type": "code",
   "execution_count": 5,
   "id": "e3f6a481",
   "metadata": {},
   "outputs": [
    {
     "data": {
      "text/plain": [
       "{'奇異博士', '尚氣與十環傳奇', '復仇者聯盟：終局之戰', '永恆族', '青春養成記', '魔法滿屋'}"
      ]
     },
     "execution_count": 5,
     "metadata": {},
     "output_type": "execute_result"
    }
   ],
   "source": [
    "#交集\n",
    "#2022上半年全球和台灣 Disney+同時上榜的電影\n",
    "(set_data1 & set_data2)"
   ]
  },
  {
   "cell_type": "code",
   "execution_count": 6,
   "id": "bbc09745",
   "metadata": {},
   "outputs": [
    {
     "data": {
      "text/plain": [
       "{'冰原歷險記：巴克大冒險', '尋龍使者：拉雅', '復仇者聯盟：無限之戰', '海洋奇緣'}"
      ]
     },
     "execution_count": 6,
     "metadata": {},
     "output_type": "execute_result"
    }
   ],
   "source": [
    "#差集\n",
    "#2022上半年 Disney+全球有上榜但台灣沒有上榜的電影\n",
    "(set_data1 - (set_data1 & set_data2))"
   ]
  },
  {
   "cell_type": "code",
   "execution_count": 7,
   "id": "c11f54c8",
   "metadata": {},
   "outputs": [
    {
     "data": {
      "text/plain": [
       "{'冰原歷險記：巴克大冒險',\n",
       " '奇異博士',\n",
       " '尋龍使者：拉雅',\n",
       " '尚氣與十環傳奇',\n",
       " '尼羅河謀殺案',\n",
       " '復仇者聯盟：無限之戰',\n",
       " '復仇者聯盟：終局之戰',\n",
       " '月老',\n",
       " '永恆族',\n",
       " '海洋奇緣',\n",
       " '金牌特務：金士曼起源',\n",
       " '青春養成記',\n",
       " '魔法滿屋',\n",
       " '黑寡婦'}"
      ]
     },
     "execution_count": 7,
     "metadata": {},
     "output_type": "execute_result"
    }
   ],
   "source": [
    "#對稱差集\n",
    "#2022上半年只有全球或只有台灣 Disney+上榜的電影\n",
    "(set_data1 | set_data2 - (set_data1 & set_data2))"
   ]
  },
  {
   "cell_type": "code",
   "execution_count": null,
   "id": "04559344",
   "metadata": {},
   "outputs": [],
   "source": []
  }
 ],
 "metadata": {
  "kernelspec": {
   "display_name": "Python 3 (ipykernel)",
   "language": "python",
   "name": "python3"
  },
  "language_info": {
   "codemirror_mode": {
    "name": "ipython",
    "version": 3
   },
   "file_extension": ".py",
   "mimetype": "text/x-python",
   "name": "python",
   "nbconvert_exporter": "python",
   "pygments_lexer": "ipython3",
   "version": "3.9.13"
  }
 },
 "nbformat": 4,
 "nbformat_minor": 5
}
