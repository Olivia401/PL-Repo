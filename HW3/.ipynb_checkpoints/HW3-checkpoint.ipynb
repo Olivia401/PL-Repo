{
 "cells": [
  {
   "cell_type": "code",
   "execution_count": 3,
   "id": "b1e38109",
   "metadata": {},
   "outputs": [],
   "source": [
    "import urllib.request as req #抓取網頁原始碼(HTML)\n",
    "import json\n",
    "import pandas as pd\n",
    "\n",
    "#抓取的網站\n",
    "url = 'https://www.hbrtaiwan.com/latest' \n",
    "\n",
    "# 建立 Request 物件，附加 Request Headers\n",
    "request = req.Request(url, headers = {\n",
    "    \"User-Agent\":'Mozilla/5.0 (Windows NT 10.0; Win64; x64) AppleWebKit/537.36 (KHTML, like Gecko) Chrome/106.0.0.0 Safari/537.36'\n",
    "})\n",
    "with req.urlopen(request) as response:\n",
    "    data = response.read().decode(\"utf-8\")"
   ]
  },
  {
   "cell_type": "code",
   "execution_count": 9,
   "id": "571ea86e",
   "metadata": {
    "scrolled": true
   },
   "outputs": [
    {
     "data": {
      "text/plain": [
       "[<div class=\"heighH3\"><h3><a href=\"/article/21906/when-is-the-best-time-to-ask-customers-for-a-review\" title=\"提醒顧客發表評論的最佳時機，你知道嗎？ \">\n",
       "                 提醒顧客發表評論的最佳時機，你知道嗎？ \n",
       "               </a></h3></div>,\n",
       " <div class=\"heighH3\"><h3><a href=\"/article/21907/ask-this-question-at-your-next-meeting\" title=\"下次開會就問這個問題\">\n",
       "                 下次開會就問這個問題\n",
       "               </a></h3></div>,\n",
       " <div class=\"heighH3\"><h3><a href=\"/case-study/21905/should-a-dollar-store-raise-prices-to-keep-up-with-inflation\" title=\"通貨膨脹壓力大，一元商店應該漲價嗎？\">\n",
       "                 通貨膨脹壓力大，一元商店應該漲價嗎？\n",
       "               </a></h3></div>,\n",
       " <div class=\"heighH3\"><h3><a href=\"/case-study/21904/should-some-employees-be-allowed-to-work-remotely-even-if-others-cant\" title=\"如果允許部分員工遠距工作，其他員工呢？\">\n",
       "                 如果允許部分員工遠距工作，其他員工呢？\n",
       "               </a></h3></div>,\n",
       " <div class=\"heighH3\"><h3><a href=\"/podcast/21902/manage-your-work\" title=\"「平衡工作與生活」只能在烏托邦實現？5大建議讓你達成雙贏局面\">\n",
       "                 「平衡工作與生活」只能在烏托邦實現？5大建議讓你達成雙贏局面\n",
       "               </a></h3></div>,\n",
       " <div class=\"heighH3\"><h3><a href=\"/video/21901/how-to-prioritize-your-work-when-your-manager-doesnt\" title=\"主管不排你的工作優先順序，就由你來排\">\n",
       "                 主管不排你的工作優先順序，就由你來排\n",
       "               </a></h3></div>,\n",
       " <div class=\"heighH3\"><h3><a href=\"/article/21900/revitalizing-culture-in-the-world-of-hybrid-work\" title=\"別讓公司文化消失在混合工作模式中\">\n",
       "                 別讓公司文化消失在混合工作模式中\n",
       "               </a></h3></div>,\n",
       " <div class=\"heighH3\"><h3><a href=\"/article/21899/how-busy-people-can-develop-leadership-skills\" title=\"大忙人如何培養領導力\">\n",
       "                 大忙人如何培養領導力\n",
       "               </a></h3></div>]"
      ]
     },
     "execution_count": 9,
     "metadata": {},
     "output_type": "execute_result"
    }
   ],
   "source": [
    "#解析原始碼\n",
    "import bs4\n",
    "root = bs4.BeautifulSoup(data, \"html.parser\")\n",
    "\n",
    "#找網站中class 為 heighH3 的 div 標籤\n",
    "titles = root.find_all(\"div\", class_=\"heighH3\") \n",
    "titles"
   ]
  },
  {
   "cell_type": "code",
   "execution_count": 17,
   "id": "e923b18e",
   "metadata": {},
   "outputs": [
    {
     "name": "stdout",
     "output_type": "stream",
     "text": [
      "\"\\n                提醒顧客發表評論的最佳時機，你知道嗎？ \\n              \"\n",
      "\"\\n                下次開會就問這個問題\\n              \"\n",
      "\"\\n                通貨膨脹壓力大，一元商店應該漲價嗎？\\n              \"\n",
      "\"\\n                如果允許部分員工遠距工作，其他員工呢？\\n              \"\n",
      "\"\\n                「平衡工作與生活」只能在烏托邦實現？5大建議讓你達成雙贏局面\\n              \"\n",
      "\"\\n                主管不排你的工作優先順序，就由你來排\\n              \"\n",
      "\"\\n                別讓公司文化消失在混合工作模式中\\n              \"\n",
      "\"\\n                大忙人如何培養領導力\\n              \"\n"
     ]
    }
   ],
   "source": [
    "allti=[]\n",
    "for title in titles:\n",
    "    all=title.a.string\n",
    "    alla = json.dumps(all,ensure_ascii=False).encode('utf-8')\n",
    "    allb = alla.decode()\n",
    "    allti.append(allb)\n",
    "    print(allb)"
   ]
  },
  {
   "cell_type": "code",
   "execution_count": 21,
   "id": "acb2b353",
   "metadata": {},
   "outputs": [
    {
     "name": "stdout",
     "output_type": "stream",
     "text": [
      "['提醒顧客發表評論的最佳時機，你知道嗎？', '下次開會就問這個問題', '通貨膨脹壓力大，一元商店應該漲價嗎？', '如果允許部分員工遠距工作，其他員工呢？', '「平衡工作與生活」只能在烏托邦實現？5大建議讓你達成雙贏局面', '主管不排你的工作優先順序，就由你來排', '別讓公司文化消失在混合工作模式中', '大忙人如何培養領導力']\n"
     ]
    }
   ],
   "source": [
    "import re\n",
    "\n",
    "cleaned_list = []\n",
    "for title in titles:\n",
    "    text = title.a.text\n",
    "    cleaned_text = re.sub('<.*?>', '', text)\n",
    "    cleaned_list.append(cleaned_text.strip())\n",
    "print(cleaned_list)\n"
   ]
  },
  {
   "cell_type": "code",
   "execution_count": 26,
   "id": "1b48ec5f",
   "metadata": {
    "scrolled": true
   },
   "outputs": [
    {
     "data": {
      "text/plain": [
       "'{\"文章標題\": [\"提醒顧客發表評論的最佳時機，你知道嗎？\", \"下次開會就問這個問題\", \"通貨膨脹壓力大，一元商店應該漲價嗎？\", \"如果允許部分員工遠距工作，其他員工呢？\", \"「平衡工作與生活」只能在烏托邦實現？5大建議讓你達成雙贏局面\", \"主管不排你的工作優先順序，就由你來排\", \"別讓公司文化消失在混合工作模式中\", \"大忙人如何培養領導力\"]}'"
      ]
     },
     "execution_count": 26,
     "metadata": {},
     "output_type": "execute_result"
    }
   ],
   "source": [
    "#將資料放入 dict\n",
    "Harvardbussiness={}\n",
    "Harvardbussiness['文章標題']=cleaned_list\n",
    "\n",
    "#將dict 轉成 json 檔\n",
    "Harvardbussiness_j=json.dumps(Harvardbussiness,ensure_ascii=False) \n",
    "Harvardbussiness_j"
   ]
  },
  {
   "cell_type": "code",
   "execution_count": 27,
   "id": "fcaa721c",
   "metadata": {},
   "outputs": [
    {
     "data": {
      "text/html": [
       "<div>\n",
       "<style scoped>\n",
       "    .dataframe tbody tr th:only-of-type {\n",
       "        vertical-align: middle;\n",
       "    }\n",
       "\n",
       "    .dataframe tbody tr th {\n",
       "        vertical-align: top;\n",
       "    }\n",
       "\n",
       "    .dataframe thead th {\n",
       "        text-align: right;\n",
       "    }\n",
       "</style>\n",
       "<table border=\"1\" class=\"dataframe\">\n",
       "  <thead>\n",
       "    <tr style=\"text-align: right;\">\n",
       "      <th></th>\n",
       "      <th>文章標題</th>\n",
       "    </tr>\n",
       "  </thead>\n",
       "  <tbody>\n",
       "    <tr>\n",
       "      <th>0</th>\n",
       "      <td>提醒顧客發表評論的最佳時機，你知道嗎？</td>\n",
       "    </tr>\n",
       "    <tr>\n",
       "      <th>1</th>\n",
       "      <td>下次開會就問這個問題</td>\n",
       "    </tr>\n",
       "    <tr>\n",
       "      <th>2</th>\n",
       "      <td>通貨膨脹壓力大，一元商店應該漲價嗎？</td>\n",
       "    </tr>\n",
       "    <tr>\n",
       "      <th>3</th>\n",
       "      <td>如果允許部分員工遠距工作，其他員工呢？</td>\n",
       "    </tr>\n",
       "    <tr>\n",
       "      <th>4</th>\n",
       "      <td>「平衡工作與生活」只能在烏托邦實現？5大建議讓你達成雙贏局面</td>\n",
       "    </tr>\n",
       "    <tr>\n",
       "      <th>5</th>\n",
       "      <td>主管不排你的工作優先順序，就由你來排</td>\n",
       "    </tr>\n",
       "    <tr>\n",
       "      <th>6</th>\n",
       "      <td>別讓公司文化消失在混合工作模式中</td>\n",
       "    </tr>\n",
       "    <tr>\n",
       "      <th>7</th>\n",
       "      <td>大忙人如何培養領導力</td>\n",
       "    </tr>\n",
       "  </tbody>\n",
       "</table>\n",
       "</div>"
      ],
      "text/plain": [
       "                             文章標題\n",
       "0             提醒顧客發表評論的最佳時機，你知道嗎？\n",
       "1                      下次開會就問這個問題\n",
       "2              通貨膨脹壓力大，一元商店應該漲價嗎？\n",
       "3             如果允許部分員工遠距工作，其他員工呢？\n",
       "4  「平衡工作與生活」只能在烏托邦實現？5大建議讓你達成雙贏局面\n",
       "5              主管不排你的工作優先順序，就由你來排\n",
       "6                別讓公司文化消失在混合工作模式中\n",
       "7                      大忙人如何培養領導力"
      ]
     },
     "execution_count": 27,
     "metadata": {},
     "output_type": "execute_result"
    }
   ],
   "source": [
    "#將dict 轉成 DataFrame\n",
    "Harvardbussiness_c = pd.DataFrame(Harvardbussiness) \n",
    "Harvardbussiness_c"
   ]
  },
  {
   "cell_type": "code",
   "execution_count": 28,
   "id": "9beb31ab",
   "metadata": {},
   "outputs": [],
   "source": [
    "#輸出csv檔\n",
    "Harvardbussiness_c.to_csv('Harvardbussiness.csv') \n",
    "\n",
    "#輸出json檔\n",
    "Harvardbussiness_c.to_json('Harvardbussiness.json') "
   ]
  },
  {
   "cell_type": "code",
   "execution_count": null,
   "id": "4f126c8a",
   "metadata": {},
   "outputs": [],
   "source": []
  }
 ],
 "metadata": {
  "kernelspec": {
   "display_name": "Python 3 (ipykernel)",
   "language": "python",
   "name": "python3"
  },
  "language_info": {
   "codemirror_mode": {
    "name": "ipython",
    "version": 3
   },
   "file_extension": ".py",
   "mimetype": "text/x-python",
   "name": "python",
   "nbconvert_exporter": "python",
   "pygments_lexer": "ipython3",
   "version": "3.9.13"
  }
 },
 "nbformat": 4,
 "nbformat_minor": 5
}
